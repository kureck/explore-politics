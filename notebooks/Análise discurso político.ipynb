{
 "cells": [
  {
   "cell_type": "code",
   "execution_count": 1,
   "metadata": {
    "collapsed": true
   },
   "outputs": [],
   "source": [
    "%matplotlib inline\n",
    "import json\n",
    "from nltk.corpus import stopwords\n",
    "from string import punctuation\n",
    "import pandas as pd\n",
    "from sklearn.model_selection import train_test_split\n",
    "from sklearn.feature_selection import SelectPercentile, f_classif\n",
    "from sklearn.feature_extraction.text import TfidfVectorizer"
   ]
  },
  {
   "cell_type": "code",
   "execution_count": 10,
   "metadata": {
    "collapsed": true
   },
   "outputs": [],
   "source": [
    "data = json.load(open('../data/items.jl'))\n",
    "\n",
    "df = pd.io.json.json_normalize(data)\n",
    "\n",
    "df = df.dropna(subset=['speech'])\n",
    "\n",
    "df['speaker'] = df.apply(lambda x: x['speaker'][0].split('-'), axis=1)\n",
    "\n",
    "df = df[df['speaker'].map(len) == 2]\n",
    "\n",
    "df['state'] = df.apply(lambda x: x['speaker'][1], axis=1)\n",
    "\n",
    "df['party'] = df.apply(lambda x: x['speaker'][0].split('%2C')[-1], axis=1)\n",
    "\n",
    "df['speaker'] = df.apply(lambda x: x['speaker'][0].split('%2C')[0], axis=1)\n",
    "\n",
    "df.party = pd.Categorical(df.party)\n",
    "\n",
    "df['target'] = df.party.cat.codes\n",
    "\n",
    "df['speech'] = df.apply(lambda x: ' '.join(x['speech']).replace('\\t', ''), axis=1)"
   ]
  },
  {
   "cell_type": "code",
   "execution_count": 11,
   "metadata": {
    "collapsed": true
   },
   "outputs": [],
   "source": [
    "features_train, features_test, labels_train, labels_test = train_test_split(df['speech'], df['target'], test_size=0.1, random_state=42)"
   ]
  },
  {
   "cell_type": "code",
   "execution_count": 12,
   "metadata": {
    "collapsed": true
   },
   "outputs": [],
   "source": [
    "stopwords_pt = set(stopwords.words('portuguese') + list(punctuation))"
   ]
  },
  {
   "cell_type": "code",
   "execution_count": 138,
   "metadata": {},
   "outputs": [
    {
     "name": "stderr",
     "output_type": "stream",
     "text": [
      "/Users/kureck/.lett/.virtualenvs/ml/lib/python3.5/site-packages/sklearn/feature_extraction/text.py:1059: FutureWarning: Conversion of the second argument of issubdtype from `float` to `np.floating` is deprecated. In future, it will be treated as `np.float64 == np.dtype(float).type`.\n",
      "  if hasattr(X, 'dtype') and np.issubdtype(X.dtype, np.float):\n",
      "/Users/kureck/.lett/.virtualenvs/ml/lib/python3.5/site-packages/sklearn/utils/__init__.py:54: FutureWarning: Conversion of the second argument of issubdtype from `int` to `np.signedinteger` is deprecated. In future, it will be treated as `np.int64 == np.dtype(int).type`.\n",
      "  if np.issubdtype(mask.dtype, np.int):\n",
      "/Users/kureck/.lett/.virtualenvs/ml/lib/python3.5/site-packages/sklearn/feature_selection/univariate_selection.py:114: RuntimeWarning: divide by zero encountered in true_divide\n",
      "  f = msb / msw\n"
     ]
    }
   ],
   "source": [
    "vectorizer = TfidfVectorizer(sublinear_tf=True, max_df=0.5, stop_words=stopwords.words('portuguese'))\n",
    "features_train_transformed = vectorizer.fit_transform(features_train)\n",
    "features_test_transformed = vectorizer.transform(features_test)\n",
    "selector = SelectPercentile(f_classif, percentile=10)\n",
    "selector.fit(features_train_transformed, labels_train)\n",
    "features_train_transformed = selector.transform(features_train_transformed).toarray()\n",
    "features_test_transformed = selector.transform(features_test_transformed).toarray()"
   ]
  },
  {
   "cell_type": "code",
   "execution_count": null,
   "metadata": {},
   "outputs": [],
   "source": [
    "from sklearn.svm import SVC\n",
    "from sklearn.metrics import accuracy_score\n",
    "\n",
    "clf = SVC(C=10000, kernel='rbf')\n",
    "clf.fit(features_train_transformed, labels_train)\n",
    "\n",
    "pred = clf.predict(features_test_transformed)\n",
    "\n",
    "print(accuracy_score(pred, labels_test))"
   ]
  },
  {
   "cell_type": "code",
   "execution_count": 23,
   "metadata": {},
   "outputs": [
    {
     "name": "stdout",
     "output_type": "stream",
     "text": [
      "0.8454789178649769\n"
     ]
    }
   ],
   "source": [
    "from sklearn.ensemble import RandomForestClassifier\n",
    "\n",
    "clf = RandomForestClassifier(max_depth=68, random_state=4, min_samples_split=28)\n",
    "\n",
    "clf.fit(features_train_transformed, labels_train)\n",
    "\n",
    "pred = clf.predict(features_test_transformed)\n",
    "\n",
    "print(accuracy_score(pred, labels_test))"
   ]
  },
  {
   "cell_type": "code",
   "execution_count": 18,
   "metadata": {
    "collapsed": true
   },
   "outputs": [],
   "source": [
    "f = pd.Series([\"Bandido bom é bandido morto\"], index=[0])"
   ]
  },
  {
   "cell_type": "code",
   "execution_count": 19,
   "metadata": {},
   "outputs": [
    {
     "name": "stderr",
     "output_type": "stream",
     "text": [
      "/Users/kureck/.lett/.virtualenvs/ml/lib/python3.5/site-packages/sklearn/feature_extraction/text.py:1059: FutureWarning: Conversion of the second argument of issubdtype from `float` to `np.floating` is deprecated. In future, it will be treated as `np.float64 == np.dtype(float).type`.\n",
      "  if hasattr(X, 'dtype') and np.issubdtype(X.dtype, np.float):\n"
     ]
    }
   ],
   "source": [
    "ftest = vectorizer.transform(f)"
   ]
  },
  {
   "cell_type": "code",
   "execution_count": 20,
   "metadata": {},
   "outputs": [
    {
     "name": "stderr",
     "output_type": "stream",
     "text": [
      "/Users/kureck/.lett/.virtualenvs/ml/lib/python3.5/site-packages/sklearn/utils/__init__.py:54: FutureWarning: Conversion of the second argument of issubdtype from `int` to `np.signedinteger` is deprecated. In future, it will be treated as `np.int64 == np.dtype(int).type`.\n",
      "  if np.issubdtype(mask.dtype, np.int):\n"
     ]
    }
   ],
   "source": [
    "ftest = selector.transform(ftest).toarray()"
   ]
  },
  {
   "cell_type": "code",
   "execution_count": 203,
   "metadata": {},
   "outputs": [
    {
     "data": {
      "text/plain": [
       "(1, 5934)"
      ]
     },
     "execution_count": 203,
     "metadata": {},
     "output_type": "execute_result"
    }
   ],
   "source": [
    "ftest.shape"
   ]
  },
  {
   "cell_type": "code",
   "execution_count": 204,
   "metadata": {
    "collapsed": true
   },
   "outputs": [],
   "source": [
    "p = clf.predict(ftest)"
   ]
  },
  {
   "cell_type": "code",
   "execution_count": 205,
   "metadata": {},
   "outputs": [
    {
     "name": "stdout",
     "output_type": "stream",
     "text": [
      "[94]\n"
     ]
    }
   ],
   "source": [
    "print(p)"
   ]
  },
  {
   "cell_type": "code",
   "execution_count": 206,
   "metadata": {},
   "outputs": [
    {
     "data": {
      "text/plain": [
       "PT                                                                                                                                                                                                        3056\n",
       "PMDB                                                                                                                                                                                                      1206\n",
       "PSOL                                                                                                                                                                                                      1104\n",
       "PSB                                                                                                                                                                                                        871\n",
       "PCDOB                                                                                                                                                                                                      838\n",
       "PSDB                                                                                                                                                                                                       821\n",
       "PR                                                                                                                                                                                                         675\n",
       "DEM                                                                                                                                                                                                        671\n",
       "PP                                                                                                                                                                                                         603\n",
       "PSD                                                                                                                                                                                                        600\n",
       "PDT                                                                                                                                                                                                        555\n",
       "PPS                                                                                                                                                                                                        378\n",
       "SD                                                                                                                                                                                                         378\n",
       "REDE                                                                                                                                                                                                       358\n",
       "PRB                                                                                                                                                                                                        305\n",
       "PTB                                                                                                                                                                                                        247\n",
       "PODE                                                                                                                                                                                                       246\n",
       "PV                                                                                                                                                                                                         239\n",
       "PSC                                                                                                                                                                                                        235\n",
       "PHS                                                                                                                                                                                                        196\n",
       "AVANTE                                                                                                                                                                                                      83\n",
       "PROS                                                                                                                                                                                                        60\n",
       "PTDOB                                                                                                                                                                                                       44\n",
       "PEN                                                                                                                                                                                                         26\n",
       "SEMPARTIDO                                                                                                                                                                                                  26\n",
       "PSL                                                                                                                                                                                                         26\n",
       "PMB                                                                                                                                                                                                          2\n",
       "HELENAMARTINS%28DIRETORADOINTERVOZES                                                                                                                                                                         1\n",
       "DEMERSONDIAS%28VICE                                                                                                                                                                                          1\n",
       "DENATAL                                                                                                                                                                                                      1\n",
       "                                                                                                                                                                                                          ... \n",
       "REGINALDOGUSM%C3%83ODEALBUQUERQUE%28PODEROSOIRM%C3%83OGR%C3%83O                                                                                                                                              1\n",
       "REINALDOCENTODUCATE%28MAGN%C3%8DFICOREITORDAUNIVERSIDADEFEDERALDOESP%C3%8DRITOSANTOS                                                                                                                         1\n",
       "REINALDOFUJIMOTO%28PRESIDENTEDAASSOCIA%C3%87%C3%83ONACIONALDOSFUNCION%C3%81RIOSDOBANCODOBRASIL                                                                                                               1\n",
       "REPRESENTANDOOPRESIDENTEDAOAB                                                                                                                                                                                1\n",
       "RINALDOMAIA%28PRESIDENTEDOCONSELHONACIONALDEREPRESENTANTESDAASSOCIA%C3%87%C3%83OBRASILEIRADECIRURGI%C3%95ESDENTISTAS                                                                                         1\n",
       "VIRIDIANOCUST%C3%93DIODEBRITO%28EX                                                                                                                                                                           1\n",
       "VIVIANNIDEMATOSGAMA%28REP.DAREDENACIONALINTERN%C3%9ACLEOSDALUTAANTIMANICOMIAL                                                                                                                                1\n",
       "MARIANNADIAS%28PRESIDENTADAUNI%C3%83ONACIONALDOSESTUDANTES                                                                                                                                                   1\n",
       "MARIADOSOCORRODACOSTACOELHO%28REPRESENTANTEDAFEDERA%C3%87%C3%83ODESINDICATOSDEPROFESSORESEPROFESSORASDEINSTITUI%C3%87%C3%95ESFEDERAISDEENSINOSUPERIOREDEENSINOB%C3%81SICOT%C3%89CNICOETECNOL%C3%93GICO       1\n",
       "JAIRPEDROFERREIRA%28PRESIDENTEDAFEDERA%C3%87%C3%83ONACIONALDASASSOCIA%C3%87%C3%95ESDOPESSOALDACAIXAECON%C3%94MICAFEDERAL                                                                                     1\n",
       "LEANDROARTHURBRANDALISESCHWEITZER%28REPRESENTANTEDOCOMANDANTE                                                                                                                                                1\n",
       "JO%C3%83OANT%C3%94NIOMENEGASSINETO%28SUBCOMANDANTEDOGRUPAMENTODEAVIA%C3%87%C3%83ODOCORPODEBOMBEIROS                                                                                                          1\n",
       "JO%C3%83OFRANCISCOYOUNGPETROCELI%28PRESIDENTEDOMOVIMENTOTRADICIONALISTAGA%C3%9ACHODOPLANALTOCENTRAL                                                                                                          1\n",
       "JOANABATISTALOPES%28PRESIDENTEDAFEDERA%C3%87%C3%83ONACIONALDOSODONTOLOGISTAS                                                                                                                                 1\n",
       "JOS%C3%89DEVANIRDEOLIVEIRA%28REPRESENTANTEDOSINDICATONACIONALDOSAUDITORESFISCAISDARECEITAFEDERALDOBRASIL                                                                                                     1\n",
       "L%C3%89OCUNHA%28DEPUTADOESTADUAL                                                                                                                                                                             1\n",
       "L%C3%8DVIAMARIAALMEIDADESOUZA%28COORDENADORANACIONALDESA%C3%9ADEBUCAL                                                                                                                                        1\n",
       "LE%C3%83OMARCIANOMARQUES%28GOV.DODISTRITOLB                                                                                                                                                                  1\n",
       "LE%C3%83OPAULOOMARDASILVA%28GOV.DODISTRITOLB                                                                                                                                                                 1\n",
       "LENISEGARCIA%28PRESIDENTEDOMOVIMENTONACIONALDACIDADANIAPELAVIDA                                                                                                                                              1\n",
       "MARIACEC%C3%8DLIAMARTINELLI%28PRESIDENTEDAASSOCIA%C3%87%C3%83OBRASILEIRADEAUDIOLOGIA                                                                                                                         1\n",
       "WALTERARRUDA%28PRESIDENTEDAFEDERA%C3%87%C3%83OMATOGROSSENSEDEBAIRROS                                                                                                                                         1\n",
       "LUCASREISDASILVA%28REPRESENTANTEDOSINDICATONACIONALDOSAUDITORESFISCAISDOTRABALHOEEX                                                                                                                          1\n",
       "LUISEDUARDOACOSTA%28REPRESENTANTEDOSINDICATONACIONALDOSDOCENTESDASINSTITUI%C3%87%C3%95ESDEENSINOSUPERIOR                                                                                                     1\n",
       "LUIZCARLOSVIEIRA%28REP.DAREDENACIONALDEPESSOASVIVENDOCOMHIV%2FAIDS                                                                                                                                           1\n",
       "MARCOSAUR%C3%89LIODESOUZAMARINHO%28CHEFEDAUNIDADEDEAVIA%C3%87%C3%83OA%C3%89READODETRAN                                                                                                                       1\n",
       "MARCOSJOS%C3%89DASILVA%28SOBERANOGR%C3%83O                                                                                                                                                                   1\n",
       "MARCUSBAR%C3%83O%28VICE                                                                                                                                                                                      1\n",
       "MARIAAPARECIDAPETECKALENCAR%28VICE                                                                                                                                                                           1\n",
       "ACI%C3%8ANCIAEACULTURA                                                                                                                                                                                       1\n",
       "Name: party, Length: 113, dtype: int64"
      ]
     },
     "execution_count": 206,
     "metadata": {},
     "output_type": "execute_result"
    }
   ],
   "source": [
    "# Problemão!\n",
    "df['party'].value_counts()"
   ]
  },
  {
   "cell_type": "code",
   "execution_count": null,
   "metadata": {},
   "outputs": [],
   "source": []
  },
  {
   "cell_type": "code",
   "execution_count": 7,
   "metadata": {},
   "outputs": [
    {
     "name": "stderr",
     "output_type": "stream",
     "text": [
      "/Users/kureck/.lett/.virtualenvs/ml/lib/python3.5/site-packages/sklearn/feature_extraction/text.py:1059: FutureWarning: Conversion of the second argument of issubdtype from `float` to `np.floating` is deprecated. In future, it will be treated as `np.float64 == np.dtype(float).type`.\n",
      "  if hasattr(X, 'dtype') and np.issubdtype(X.dtype, np.float):\n",
      "/Users/kureck/.lett/.virtualenvs/ml/lib/python3.5/site-packages/sklearn/utils/__init__.py:54: FutureWarning: Conversion of the second argument of issubdtype from `int` to `np.signedinteger` is deprecated. In future, it will be treated as `np.int64 == np.dtype(int).type`.\n",
      "  if np.issubdtype(mask.dtype, np.int):\n",
      "/Users/kureck/.lett/.virtualenvs/ml/lib/python3.5/site-packages/sklearn/feature_selection/univariate_selection.py:114: RuntimeWarning: divide by zero encountered in true_divide\n",
      "  f = msb / msw\n"
     ]
    }
   ],
   "source": [
    "d = []\n",
    "\n",
    "with open('../../data/sample.json', 'r') as f:\n",
    "    for x in f:\n",
    "        d.append(json.loads(x.replace('\\n', '')))\n",
    "        \n",
    "df = pd.DataFrame(d)\n",
    "df = df.dropna(subset=['discourse'])\n",
    "df.party = pd.Categorical(df.party)\n",
    "df['target'] = df.party.cat.codes\n",
    "\n",
    "features_train, features_test, labels_train, labels_test = train_test_split(df['discourse'], df['target'], test_size=0.1, random_state=42)\n",
    "stopwords_pt = set(stopwords.words('portuguese') + list(punctuation))\n",
    "\n",
    "vectorizer = TfidfVectorizer(sublinear_tf=True, max_df=0.5, stop_words=stopwords.words('portuguese'))\n",
    "features_train_transformed = vectorizer.fit_transform(features_train)\n",
    "features_test_transformed = vectorizer.transform(features_test)\n",
    "selector = SelectPercentile(f_classif, percentile=10)\n",
    "selector.fit(features_train_transformed, labels_train)\n",
    "features_train_transformed = selector.transform(features_train_transformed).toarray()\n",
    "features_test_transformed = selector.transform(features_test_transformed).toarray()"
   ]
  },
  {
   "cell_type": "code",
   "execution_count": 10,
   "metadata": {},
   "outputs": [
    {
     "name": "stdout",
     "output_type": "stream",
     "text": [
      "0.8454789178649769\n"
     ]
    }
   ],
   "source": [
    "from sklearn.ensemble import RandomForestClassifier\n",
    "\n",
    "clf = RandomForestClassifier(max_depth=68, random_state=4, min_samples_split=28)\n",
    "\n",
    "clf.fit(features_train_transformed, labels_train)\n",
    "\n",
    "pred = clf.predict(features_test_transformed)\n",
    "\n",
    "print(accuracy_score(pred, labels_test))"
   ]
  },
  {
   "cell_type": "code",
   "execution_count": 9,
   "metadata": {},
   "outputs": [
    {
     "name": "stdout",
     "output_type": "stream",
     "text": [
      "0.8454789178649769\n"
     ]
    }
   ],
   "source": [
    "from sklearn.metrics import accuracy_score\n",
    "\n",
    "print(accuracy_score(pred, labels_test))"
   ]
  },
  {
   "cell_type": "code",
   "execution_count": 21,
   "metadata": {
    "collapsed": true
   },
   "outputs": [],
   "source": [
    "p = clf.predict(ftest)"
   ]
  },
  {
   "cell_type": "code",
   "execution_count": 22,
   "metadata": {},
   "outputs": [
    {
     "data": {
      "text/plain": [
       "array([33], dtype=int8)"
      ]
     },
     "execution_count": 22,
     "metadata": {},
     "output_type": "execute_result"
    }
   ],
   "source": [
    "p"
   ]
  },
  {
   "cell_type": "code",
   "execution_count": 17,
   "metadata": {},
   "outputs": [
    {
     "data": {
      "text/plain": [
       " 33    8944\n",
       " 12    5379\n",
       " 28    4102\n",
       " 25    2168\n",
       " 16    1902\n",
       " 1     1867\n",
       " 34    1842\n",
       " 8     1761\n",
       " 6     1661\n",
       " 3     1580\n",
       " 19    1467\n",
       " 18    1403\n",
       " 31    1083\n",
       " 27     873\n",
       " 10     744\n",
       " 38     701\n",
       " 26     637\n",
       "-1      523\n",
       " 20     465\n",
       " 17     338\n",
       " 40     304\n",
       " 9      163\n",
       " 22     157\n",
       " 39     148\n",
       " 30     120\n",
       " 13      98\n",
       " 42      89\n",
       " 37      81\n",
       " 35      78\n",
       " 41      70\n",
       " 36      68\n",
       " 21      48\n",
       " 15      45\n",
       " 11      31\n",
       " 7       22\n",
       " 32      19\n",
       " 0       12\n",
       " 24       8\n",
       " 23       7\n",
       " 29       7\n",
       " 14       4\n",
       " 2        3\n",
       " 5        1\n",
       " 4        1\n",
       "Name: target, dtype: int64"
      ]
     },
     "execution_count": 17,
     "metadata": {},
     "output_type": "execute_result"
    }
   ],
   "source": [
    "df['target'].value_counts()"
   ]
  },
  {
   "cell_type": "code",
   "execution_count": null,
   "metadata": {
    "collapsed": true
   },
   "outputs": [],
   "source": []
  }
 ],
 "metadata": {
  "kernelspec": {
   "display_name": "Python 3",
   "language": "python",
   "name": "python3"
  },
  "language_info": {
   "codemirror_mode": {
    "name": "ipython",
    "version": 3
   },
   "file_extension": ".py",
   "mimetype": "text/x-python",
   "name": "python",
   "nbconvert_exporter": "python",
   "pygments_lexer": "ipython3",
   "version": "3.5.1"
  }
 },
 "nbformat": 4,
 "nbformat_minor": 2
}
